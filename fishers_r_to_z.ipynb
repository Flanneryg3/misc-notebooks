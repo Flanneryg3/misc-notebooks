{
 "cells": [
  {
   "cell_type": "markdown",
   "metadata": {},
   "source": [
    "# Is significance of r-to-z values the same as significance of r values?\n",
    "\n",
    "You need to use the _test-statistic_ z-value!\n",
    "\n",
    "The Fisher r-to-z transform (`np.arctanh(r)`) just gets the data in a normal distribution. You then use the sigma `1 / ((len(x)-3) ** 0.5)` to get the test statistic, which you can use to get the p-value. Conversely, if you have a _distribution_ of r-values that you want to compare to zero, I think the standard r-t-z transform should be sufficient, assuming all of the correlation coefficients have the same sample size. No idea what to do if they don't."
   ]
  },
  {
   "cell_type": "code",
   "execution_count": 1,
   "metadata": {},
   "outputs": [],
   "source": [
    "import numpy as np\n",
    "from scipy import stats"
   ]
  },
  {
   "cell_type": "code",
   "execution_count": 2,
   "metadata": {},
   "outputs": [],
   "source": [
    "xx = np.array([-0.51, 51.2])\n",
    "yy = np.array([0.33, 51.6])\n",
    "means = [xx.mean(), yy.mean()]  \n",
    "stds = [xx.std() / 3, yy.std() / 3]\n",
    "corr = 0.1  # correlation\n",
    "covs = [[stds[0]**2          , stds[0]*stds[1]*corr], \n",
    "        [stds[0]*stds[1]*corr,           stds[1]**2]] \n",
    "\n",
    "x, y = np.random.multivariate_normal(means, covs, 5000).T"
   ]
  },
  {
   "cell_type": "code",
   "execution_count": 3,
   "metadata": {},
   "outputs": [],
   "source": [
    "r, p = stats.pearsonr(x, y)\n",
    "z_prime = np.arctanh(r)\n",
    "z_sigma = 1. / np.sqrt(len(x) - 3)\n",
    "z_score = z_prime / z_sigma\n",
    "p_z_prime = stats.norm.sf(abs(z_prime)) * 2  # two-sided\n",
    "p_z = stats.norm.sf(abs(z_prime) / z_sigma) * 2  # two-sided"
   ]
  },
  {
   "cell_type": "code",
   "execution_count": 4,
   "metadata": {},
   "outputs": [
    {
     "data": {
      "text/plain": [
       "2.7344459515238075e-14"
      ]
     },
     "execution_count": 4,
     "metadata": {},
     "output_type": "execute_result"
    }
   ],
   "source": [
    "# P-value for correlation coefficient\n",
    "p"
   ]
  },
  {
   "cell_type": "code",
   "execution_count": 5,
   "metadata": {},
   "outputs": [
    {
     "data": {
      "text/plain": [
       "2.5908118706338407e-14"
      ]
     },
     "execution_count": 5,
     "metadata": {},
     "output_type": "execute_result"
    }
   ],
   "source": [
    "# P-value for z' divided by standard error\n",
    "# Pretty much the same as the correlation coefficient's p-value!\n",
    "p_z"
   ]
  },
  {
   "cell_type": "code",
   "execution_count": 6,
   "metadata": {},
   "outputs": [
    {
     "data": {
      "text/plain": [
       "0.914188525519562"
      ]
     },
     "execution_count": 6,
     "metadata": {},
     "output_type": "execute_result"
    }
   ],
   "source": [
    "# P-value for z'\n",
    "# Not very similar at all :(\n",
    "p_z_prime"
   ]
  },
  {
   "cell_type": "code",
   "execution_count": null,
   "metadata": {},
   "outputs": [],
   "source": []
  }
 ],
 "metadata": {
  "kernelspec": {
   "display_name": "Python [conda env:python3]",
   "language": "python",
   "name": "conda-env-python3-py"
  },
  "language_info": {
   "codemirror_mode": {
    "name": "ipython",
    "version": 3
   },
   "file_extension": ".py",
   "mimetype": "text/x-python",
   "name": "python",
   "nbconvert_exporter": "python",
   "pygments_lexer": "ipython3",
   "version": "3.6.4"
  }
 },
 "nbformat": 4,
 "nbformat_minor": 2
}
