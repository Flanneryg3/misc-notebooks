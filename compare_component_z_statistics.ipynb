{
 "cells": [
  {
   "cell_type": "markdown",
   "metadata": {},
   "source": [
    "Compare different methods of calculating z-statistics from multiple regression with relatively low degrees of freedom. We use this to generate z-statistic maps corresponding to our PCA and ICA components in tedana."
   ]
  },
  {
   "cell_type": "code",
   "execution_count": 1,
   "metadata": {},
   "outputs": [
    {
     "name": "stderr",
     "output_type": "stream",
     "text": [
      "/Users/tsalo/.local/lib/python3.6/site-packages/scikit_learn-0.21.2-py3.6-macosx-10.7-x86_64.egg/sklearn/externals/joblib/__init__.py:15: DeprecationWarning: sklearn.externals.joblib is deprecated in 0.21 and will be removed in 0.23. Please import this functionality directly from joblib, which can be installed with: pip install joblib. If this warning is raised when loading pickled models, you may need to re-serialize those models with scikit-learn 0.21+.\n",
      "  warnings.warn(msg, category=DeprecationWarning)\n"
     ]
    }
   ],
   "source": [
    "%matplotlib inline\n",
    "import os.path as op\n",
    "import matplotlib.pyplot as plt\n",
    "\n",
    "import numpy as np\n",
    "import nibabel as nib\n",
    "from nilearn import masking\n",
    "from scipy import stats\n",
    "from nilearn.mass_univariate import permuted_ols\n",
    "from nimare.stats import p_to_z\n",
    "import seaborn as sns"
   ]
  },
  {
   "cell_type": "code",
   "execution_count": 2,
   "metadata": {},
   "outputs": [],
   "source": [
    "def rmse(pred, truth):\n",
    "    \"\"\"\n",
    "    https://stackoverflow.com/a/26072309/2589328\n",
    "    \"\"\"\n",
    "    return np.sqrt(np.mean((pred - truth) ** 2))"
   ]
  },
  {
   "cell_type": "code",
   "execution_count": 3,
   "metadata": {},
   "outputs": [],
   "source": [
    "# We'll want a reduced set of voxels to speed up calculations\n",
    "voxel_idx = np.arange(1000, 2000, dtype=int)"
   ]
  },
  {
   "cell_type": "code",
   "execution_count": 4,
   "metadata": {},
   "outputs": [],
   "source": [
    "# Constants\n",
    "# We'll use the optimally combined data and PCA mixing matrix for our test\n",
    "data_dir = '/Users/tsalo/Documents/tsalo/tedana-comparison/sandbox/e5-checkerboard'\n",
    "data_file = op.join(data_dir, 'ts_OC.nii.gz')\n",
    "mixing_file = op.join(data_dir, 'mepca_mix.1D')\n",
    "\n",
    "mask = masking.compute_epi_mask(data_file)\n",
    "data = masking.apply_mask(data_file, mask)\n",
    "data = data[:, voxel_idx]  # Reduce number of voxels for speed\n",
    "\n",
    "mixing = np.loadtxt(mixing_file)\n",
    "mixing = mixing#[:, :50]  # Reduce number of components to get some DOFs"
   ]
  },
  {
   "cell_type": "code",
   "execution_count": 5,
   "metadata": {},
   "outputs": [
    {
     "name": "stdout",
     "output_type": "stream",
     "text": [
      "16429/159000 bad voxels found\n"
     ]
    }
   ],
   "source": [
    "# Method 1: The tedana way\n",
    "from tedana.stats import computefeats2\n",
    "Z_MAX = 8\n",
    "\n",
    "# First, we calculate \"standardized\" parameter estimates\n",
    "# (mixing is not normalized in the function, but data is).\n",
    "# These PEs are truncated at +- 1 and converted to\n",
    "# normally-distributed Z-values (not valid Z-statistics)\n",
    "# using the Fisher R-to-Z transform.\n",
    "z_val_maps1 = computefeats2(data.T, mixing, normalize=False)\n",
    "\n",
    "# Tedana then z-scores the z-values and treats these as valid z-statistics\n",
    "z_stat_maps1 = stats.zscore(z_val_maps1, axis=0)  # Normalize each component map across voxels\n",
    "z_stat_maps1[np.abs(z_stat_maps1) > Z_MAX] = Z_MAX * np.sign(z_stat_maps1[np.abs(z_stat_maps1) > Z_MAX])"
   ]
  },
  {
   "cell_type": "code",
   "execution_count": 6,
   "metadata": {},
   "outputs": [
    {
     "name": "stdout",
     "output_type": "stream",
     "text": [
      "0/159000 bad voxels found\n"
     ]
    }
   ],
   "source": [
    "# Method 2: Adapted tedana way\n",
    "# The attempt here is to calculate properly standardized\n",
    "# PEs by normalizing the data *and* the mixing matrix, then\n",
    "# apply Fisher R-to-Z (done in function).\n",
    "data_vn = stats.zscore(data, axis=-1)  # normalize each voxel over time\n",
    "mixing_z = stats.zscore(mixing, axis=0)  # normalize each component over time\n",
    "z_val_maps2 = computefeats2(data_vn.T, mixing_z, normalize=False)\n",
    "\n",
    "# We then can convert Z-values to Z-statistics by dividing\n",
    "# by the standard error (1 / sqrt(n -3)), but determining the\n",
    "# degrees of freedom is *hard* (impossible?) here, because\n",
    "# the DOF for the regression is #Volumes - #Components\n",
    "# So instead I've decided to use the Z-values directly\n",
    "\n",
    "# NOTE: Incorporating degrees of freedom *increases* RMSE\n",
    "# z_stat_maps2 = z_val_maps2 * np.sqrt((mixing.shape[0] - mixing.shape[1]) - 3)\n",
    "\n",
    "z_stat_maps2 = z_val_maps2"
   ]
  },
  {
   "cell_type": "code",
   "execution_count": 7,
   "metadata": {},
   "outputs": [],
   "source": [
    "# Method 3: Nilearn\n",
    "# Here we try using a permutation-based approach to estimate\n",
    "# voxel- and component-wise significance based on an empirical\n",
    "# null distribution.\n",
    "# We want to see how well a small number of permutations (500)\n",
    "# compares to a much larger number\n",
    "nilearn_test_maps = []\n",
    "for i_test in range(50):  # Run many times to get a distribution\n",
    "    pe_logp_vals, pe_t_vals, _ = permuted_ols(\n",
    "        mixing, data, model_intercept=True, n_jobs=4,\n",
    "        n_perm=500, verbose=0)\n",
    "    pe_p_vals = np.power(10., -pe_logp_vals)\n",
    "    pe_z_vals = p_to_z(pe_p_vals, tail='two')\n",
    "    pe_z_vals *= np.sign(pe_t_vals)\n",
    "    z_stat_maps3 = pe_z_vals\n",
    "    nilearn_test_maps.append(z_stat_maps3)"
   ]
  },
  {
   "cell_type": "code",
   "execution_count": 8,
   "metadata": {},
   "outputs": [
    {
     "name": "stderr",
     "output_type": "stream",
     "text": [
      "[Parallel(n_jobs=4)]: Using backend LokyBackend with 4 concurrent workers.\n",
      "[Parallel(n_jobs=4)]: Done   4 out of   4 | elapsed:  4.4min finished\n"
     ]
    }
   ],
   "source": [
    "# Ground truth: Nilearn + lots of perms\n",
    "pe_logp_vals, pe_t_vals, _ = permuted_ols(\n",
    "    mixing, data, model_intercept=True, n_perm=50000, n_jobs=4, verbose=3)\n",
    "pe_p_vals = np.power(10., -pe_logp_vals)\n",
    "pe_z_vals = p_to_z(pe_p_vals, tail='two')\n",
    "pe_z_vals *= np.sign(pe_t_vals)\n",
    "z_stat_maps0 = pe_z_vals"
   ]
  },
  {
   "cell_type": "code",
   "execution_count": 10,
   "metadata": {},
   "outputs": [
    {
     "name": "stderr",
     "output_type": "stream",
     "text": [
      "/Users/tsalo/anaconda/envs/python3/lib/python3.6/site-packages/ipykernel/__main__.py:15: UserWarning: Matplotlib is currently using module://ipykernel.pylab.backend_inline, which is a non-GUI backend, so cannot show the figure.\n"
     ]
    },
    {
     "data": {
      "image/png": "[encoded data removed]",
      "text/plain": [
       "<Figure size 1152x432 with 1 Axes>"
      ]
     },
     "metadata": {},
     "output_type": "display_data"
    }
   ],
   "source": [
    "# Compute RMSE values between each test array and the ground truth array\n",
    "# Then plot\n",
    "rmse1 = rmse(z_stat_maps1.T, z_stat_maps0)\n",
    "rmse2 = rmse(z_stat_maps2.T, z_stat_maps0)\n",
    "rmse3 = []\n",
    "for i in range(len(nilearn_test_maps)):\n",
    "    rmse3.append(rmse(nilearn_test_maps[i], z_stat_maps0))\n",
    "\n",
    "fig, ax = plt.subplots(figsize=(16, 6))\n",
    "sns.distplot(rmse3, ax=ax, label='nilearn fast (500 iter)')\n",
    "ax.axvline(rmse1, color='red', label='tedana default')\n",
    "ax.axvline(rmse2, color='green', label='tedana test')\n",
    "ax.set_xlabel('Residual Mean Squared Error (RMSE)')\n",
    "ax.legend()\n",
    "fig.show()\n",
    "# As we can see, the nilearn approach with few permutations\n",
    "# does much better than the default we have implemented\n",
    "# But, for some reason treating the regression coefficients\n",
    "# as correlation coefficients and converting to z-statistics\n",
    "# doesn't help"
   ]
  },
  {
   "cell_type": "code",
   "execution_count": null,
   "metadata": {},
   "outputs": [],
   "source": []
  }
 ],
 "metadata": {
  "kernelspec": {
   "display_name": "Python [conda env:python3]",
   "language": "python",
   "name": "conda-env-python3-py"
  },
  "language_info": {
   "codemirror_mode": {
    "name": "ipython",
    "version": 3
   },
   "file_extension": ".py",
   "mimetype": "text/x-python",
   "name": "python",
   "nbconvert_exporter": "python",
   "pygments_lexer": "ipython3",
   "version": "3.6.4"
  }
 },
 "nbformat": 4,
 "nbformat_minor": 2
}
